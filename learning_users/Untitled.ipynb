{
 "cells": [
  {
   "cell_type": "code",
   "execution_count": 5,
   "metadata": {},
   "outputs": [
    {
     "name": "stdout",
     "output_type": "stream",
     "text": [
      "Traceback (most recent call last):\r\n",
      "  File \"manage.py\", line 15, in <module>\r\n",
      "    execute_from_command_line(sys.argv)\r\n",
      "  File \"/home/ubuntu/applications/remoteDisk/softwares/anaconda3/lib/python3.6/site-packages/django/core/management/__init__.py\", line 381, in execute_from_command_line\r\n",
      "    utility.execute()\r\n",
      "  File \"/home/ubuntu/applications/remoteDisk/softwares/anaconda3/lib/python3.6/site-packages/django/core/management/__init__.py\", line 375, in execute\r\n",
      "    self.fetch_command(subcommand).run_from_argv(self.argv)\r\n",
      "  File \"/home/ubuntu/applications/remoteDisk/softwares/anaconda3/lib/python3.6/site-packages/django/core/management/__init__.py\", line 224, in fetch_command\r\n",
      "    klass = load_command_class(app_name, subcommand)\r\n",
      "  File \"/home/ubuntu/applications/remoteDisk/softwares/anaconda3/lib/python3.6/site-packages/django/core/management/__init__.py\", line 36, in load_command_class\r\n",
      "    module = import_module('%s.management.commands.%s' % (app_name, name))\r\n",
      "  File \"/home/ubuntu/applications/remoteDisk/softwares/anaconda3/lib/python3.6/importlib/__init__.py\", line 126, in import_module\r\n",
      "    return _bootstrap._gcd_import(name[level:], package, level)\r\n",
      "  File \"<frozen importlib._bootstrap>\", line 994, in _gcd_import\r\n",
      "  File \"<frozen importlib._bootstrap>\", line 971, in _find_and_load\r\n",
      "  File \"<frozen importlib._bootstrap>\", line 955, in _find_and_load_unlocked\r\n",
      "  File \"<frozen importlib._bootstrap>\", line 665, in _load_unlocked\r\n",
      "  File \"<frozen importlib._bootstrap_external>\", line 678, in exec_module\r\n",
      "  File \"<frozen importlib._bootstrap>\", line 219, in _call_with_frames_removed\r\n",
      "  File \"/home/ubuntu/applications/remoteDisk/softwares/anaconda3/lib/python3.6/site-packages/django/core/management/commands/migrate.py\", line 14, in <module>\r\n",
      "    from django.db.migrations.autodetector import MigrationAutodetector\r\n",
      "  File \"/home/ubuntu/applications/remoteDisk/softwares/anaconda3/lib/python3.6/site-packages/django/db/migrations/autodetector.py\", line 11, in <module>\r\n",
      "    from django.db.migrations.questioner import MigrationQuestioner\r\n",
      "  File \"/home/ubuntu/applications/remoteDisk/softwares/anaconda3/lib/python3.6/site-packages/django/db/migrations/questioner.py\", line 9, in <module>\r\n",
      "    from .loader import MigrationLoader\r\n",
      "  File \"/home/ubuntu/applications/remoteDisk/softwares/anaconda3/lib/python3.6/site-packages/django/db/migrations/loader.py\", line 8, in <module>\r\n",
      "    from django.db.migrations.recorder import MigrationRecorder\r\n",
      "  File \"/home/ubuntu/applications/remoteDisk/softwares/anaconda3/lib/python3.6/site-packages/django/db/migrations/recorder.py\", line 9, in <module>\r\n",
      "    class MigrationRecorder:\r\n",
      "  File \"/home/ubuntu/applications/remoteDisk/softwares/anaconda3/lib/python3.6/site-packages/django/db/migrations/recorder.py\", line 22, in MigrationRecorder\r\n",
      "    class Migration(models.Model):\r\n",
      "  File \"/home/ubuntu/applications/remoteDisk/softwares/anaconda3/lib/python3.6/site-packages/django/db/models/base.py\", line 87, in __new__\r\n",
      "    app_config = apps.get_containing_app_config(module)\r\n",
      "  File \"/home/ubuntu/applications/remoteDisk/softwares/anaconda3/lib/python3.6/site-packages/django/apps/registry.py\", line 249, in get_containing_app_config\r\n",
      "    self.check_apps_ready()\r\n",
      "  File \"/home/ubuntu/applications/remoteDisk/softwares/anaconda3/lib/python3.6/site-packages/django/apps/registry.py\", line 131, in check_apps_ready\r\n",
      "    settings.INSTALLED_APPS\r\n",
      "  File \"/home/ubuntu/applications/remoteDisk/softwares/anaconda3/lib/python3.6/site-packages/django/conf/__init__.py\", line 57, in __getattr__\r\n",
      "    self._setup(name)\r\n",
      "  File \"/home/ubuntu/applications/remoteDisk/softwares/anaconda3/lib/python3.6/site-packages/django/conf/__init__.py\", line 44, in _setup\r\n",
      "    self._wrapped = Settings(settings_module)\r\n",
      "  File \"/home/ubuntu/applications/remoteDisk/softwares/anaconda3/lib/python3.6/site-packages/django/conf/__init__.py\", line 107, in __init__\r\n",
      "    mod = importlib.import_module(self.SETTINGS_MODULE)\r\n",
      "  File \"/home/ubuntu/applications/remoteDisk/softwares/anaconda3/lib/python3.6/importlib/__init__.py\", line 126, in import_module\r\n",
      "    return _bootstrap._gcd_import(name[level:], package, level)\r\n",
      "ModuleNotFoundError: No module named 'Django5'\r\n"
     ]
    }
   ],
   "source": [
    "!python manage.py migrate"
   ]
  },
  {
   "cell_type": "code",
   "execution_count": null,
   "metadata": {},
   "outputs": [],
   "source": []
  }
 ],
 "metadata": {
  "kernelspec": {
   "display_name": "Python 3",
   "language": "python",
   "name": "python3"
  },
  "language_info": {
   "codemirror_mode": {
    "name": "ipython",
    "version": 3
   },
   "file_extension": ".py",
   "mimetype": "text/x-python",
   "name": "python",
   "nbconvert_exporter": "python",
   "pygments_lexer": "ipython3",
   "version": "3.6.4"
  }
 },
 "nbformat": 4,
 "nbformat_minor": 2
}
