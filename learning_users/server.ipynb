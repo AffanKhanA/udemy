{
 "cells": [
  {
   "cell_type": "code",
   "execution_count": 1,
   "metadata": {},
   "outputs": [
    {
     "name": "stdout",
     "output_type": "stream",
     "text": [
      "Performing system checks...\n",
      "\n",
      "System check identified no issues (0 silenced).\n",
      "July 01, 2019 - 10:05:57\n",
      "Django version 2.1.7, using settings 'learning_users.settings'\n",
      "Starting development server at http://0.0.0.0:6969/\n",
      "Quit the server with CONTROL-C.\n",
      "Internal Server Error: /\n",
      "Traceback (most recent call last):\n",
      "  File \"/home/ubuntu/applications/remoteDisk/softwares/anaconda3/lib/python3.6/site-packages/django/core/handlers/exception.py\", line 34, in inner\n",
      "    response = get_response(request)\n",
      "  File \"/home/ubuntu/applications/remoteDisk/softwares/anaconda3/lib/python3.6/site-packages/django/core/handlers/base.py\", line 126, in _get_response\n",
      "    response = self.process_exception_by_middleware(e, request)\n",
      "  File \"/home/ubuntu/applications/remoteDisk/softwares/anaconda3/lib/python3.6/site-packages/django/core/handlers/base.py\", line 124, in _get_response\n",
      "    response = wrapped_callback(request, *callback_args, **callback_kwargs)\n",
      "  File \"/home/indresh/MohammedAffanKhan/Django/learning_users/basic_app/views.py\", line 12, in index\n",
      "    return render(request,'basic_app/index.html')\n",
      "  File \"/home/ubuntu/applications/remoteDisk/softwares/anaconda3/lib/python3.6/site-packages/django/shortcuts.py\", line 36, in render\n",
      "    content = loader.render_to_string(template_name, context, request, using=using)\n",
      "  File \"/home/ubuntu/applications/remoteDisk/softwares/anaconda3/lib/python3.6/site-packages/django/template/loader.py\", line 61, in render_to_string\n",
      "    template = get_template(template_name, using=using)\n",
      "  File \"/home/ubuntu/applications/remoteDisk/softwares/anaconda3/lib/python3.6/site-packages/django/template/loader.py\", line 19, in get_template\n",
      "    raise TemplateDoesNotExist(template_name, chain=chain)\n",
      "django.template.exceptions.TemplateDoesNotExist: basic_app/index.html\n",
      "[01/Jul/2019 10:06:07] \u001b[35;1m\"GET / HTTP/1.1\" 500 79117\u001b[0m\n",
      "Not Found: /favicon.ico\n",
      "[01/Jul/2019 10:06:07] \u001b[33m\"GET /favicon.ico HTTP/1.1\" 404 2455\u001b[0m\n",
      "Internal Server Error: /\n",
      "Traceback (most recent call last):\n",
      "  File \"/home/ubuntu/applications/remoteDisk/softwares/anaconda3/lib/python3.6/site-packages/django/core/handlers/exception.py\", line 34, in inner\n",
      "    response = get_response(request)\n",
      "  File \"/home/ubuntu/applications/remoteDisk/softwares/anaconda3/lib/python3.6/site-packages/django/core/handlers/base.py\", line 126, in _get_response\n",
      "    response = self.process_exception_by_middleware(e, request)\n",
      "  File \"/home/ubuntu/applications/remoteDisk/softwares/anaconda3/lib/python3.6/site-packages/django/core/handlers/base.py\", line 124, in _get_response\n",
      "    response = wrapped_callback(request, *callback_args, **callback_kwargs)\n",
      "  File \"/home/indresh/MohammedAffanKhan/Django/learning_users/basic_app/views.py\", line 12, in index\n",
      "    return render(request,'basic_app/index.html')\n",
      "  File \"/home/ubuntu/applications/remoteDisk/softwares/anaconda3/lib/python3.6/site-packages/django/shortcuts.py\", line 36, in render\n",
      "    content = loader.render_to_string(template_name, context, request, using=using)\n",
      "  File \"/home/ubuntu/applications/remoteDisk/softwares/anaconda3/lib/python3.6/site-packages/django/template/loader.py\", line 61, in render_to_string\n",
      "    template = get_template(template_name, using=using)\n",
      "  File \"/home/ubuntu/applications/remoteDisk/softwares/anaconda3/lib/python3.6/site-packages/django/template/loader.py\", line 19, in get_template\n",
      "    raise TemplateDoesNotExist(template_name, chain=chain)\n",
      "django.template.exceptions.TemplateDoesNotExist: basic_app/index.html\n",
      "[01/Jul/2019 10:07:05] \u001b[35;1m\"GET / HTTP/1.1\" 500 79037\u001b[0m\n",
      "Performing system checks...\n",
      "\n",
      "System check identified no issues (0 silenced).\n",
      "July 01, 2019 - 10:07:49\n",
      "Django version 2.1.7, using settings 'learning_users.settings'\n",
      "Starting development server at http://0.0.0.0:6969/\n",
      "Quit the server with CONTROL-C.\n",
      "[01/Jul/2019 10:07:53] \u001b[m\"GET / HTTP/1.1\" 200 1000\u001b[0m\n",
      "[01/Jul/2019 10:07:58] \u001b[m\"GET /basic_app/register/ HTTP/1.1\" 200 2037\u001b[0m\n",
      "found it\n",
      "[01/Jul/2019 10:09:02] \u001b[m\"POST /basic_app/register/ HTTP/1.1\" 200 988\u001b[0m\n",
      "[01/Jul/2019 10:09:08] \u001b[m\"GET /basic_app/user_login/ HTTP/1.1\" 200 1444\u001b[0m\n",
      "[01/Jul/2019 10:09:15] \u001b[32m\"POST /basic_app/user_login/ HTTP/1.1\" 302 0\u001b[0m\n",
      "[01/Jul/2019 10:09:16] \u001b[m\"GET / HTTP/1.1\" 200 981\u001b[0m\n",
      "[01/Jul/2019 10:09:20] \u001b[32m\"GET /admin/ HTTP/1.1\" 302 0\u001b[0m\n",
      "[01/Jul/2019 10:09:20] \u001b[m\"GET /admin/login/?next=/admin/ HTTP/1.1\" 200 1971\u001b[0m\n",
      "[01/Jul/2019 10:09:20] \u001b[m\"GET /static/admin/css/base.css HTTP/1.1\" 200 16225\u001b[0m\n",
      "[01/Jul/2019 10:09:21] \u001b[m\"GET /static/admin/css/login.css HTTP/1.1\" 200 1203\u001b[0m\n",
      "[01/Jul/2019 10:09:21] \u001b[m\"GET /static/admin/css/responsive.css HTTP/1.1\" 200 17976\u001b[0m\n",
      "[01/Jul/2019 10:09:21] \u001b[m\"GET /static/admin/css/fonts.css HTTP/1.1\" 200 423\u001b[0m\n",
      "[01/Jul/2019 10:09:22] \u001b[m\"GET /static/admin/fonts/Roboto-Light-webfont.woff HTTP/1.1\" 200 81348\u001b[0m\n",
      "[01/Jul/2019 10:09:22] \u001b[m\"GET /static/admin/fonts/Roboto-Bold-webfont.woff HTTP/1.1\" 200 82564\u001b[0m\n",
      "[01/Jul/2019 10:09:22] \u001b[m\"GET /static/admin/fonts/Roboto-Regular-webfont.woff HTTP/1.1\" 200 80304\u001b[0m\n",
      "[01/Jul/2019 10:09:31] \u001b[m\"POST /admin/login/?next=/admin/ HTTP/1.1\" 200 2132\u001b[0m\n",
      "[01/Jul/2019 10:09:39] \u001b[m\"POST /admin/login/?next=/admin/ HTTP/1.1\" 200 2132\u001b[0m\n",
      "[01/Jul/2019 10:09:48] \u001b[m\"POST /admin/login/?next=/admin/ HTTP/1.1\" 200 2132\u001b[0m\n",
      "^C\n"
     ]
    }
   ],
   "source": [
    "!python manage.py runserver 0.0.0.0:6969"
   ]
  },
  {
   "cell_type": "code",
   "execution_count": null,
   "metadata": {},
   "outputs": [],
   "source": []
  }
 ],
 "metadata": {
  "kernelspec": {
   "display_name": "Python 3",
   "language": "python",
   "name": "python3"
  },
  "language_info": {
   "codemirror_mode": {
    "name": "ipython",
    "version": 3
   },
   "file_extension": ".py",
   "mimetype": "text/x-python",
   "name": "python",
   "nbconvert_exporter": "python",
   "pygments_lexer": "ipython3",
   "version": "3.6.4"
  }
 },
 "nbformat": 4,
 "nbformat_minor": 2
}
